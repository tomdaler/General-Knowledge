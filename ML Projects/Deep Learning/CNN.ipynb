{
  "nbformat": 4,
  "nbformat_minor": 0,
  "metadata": {
    "colab": {
      "name": "CNN.ipynb",
      "provenance": [],
      "authorship_tag": "ABX9TyPj8AH4in9FsHpT7qECI86U",
      "include_colab_link": true
    },
    "kernelspec": {
      "name": "python3",
      "display_name": "Python 3"
    },
    "language_info": {
      "name": "python"
    },
    "accelerator": "GPU"
  },
  "cells": [
    {
      "cell_type": "markdown",
      "metadata": {
        "id": "view-in-github",
        "colab_type": "text"
      },
      "source": [
        "<a href=\"https://colab.research.google.com/github/tomdaler/repository/blob/main/ML%20Projects/Deep%20Learning/CNN.ipynb\" target=\"_parent\"><img src=\"https://colab.research.google.com/assets/colab-badge.svg\" alt=\"Open In Colab\"/></a>"
      ]
    },
    {
      "cell_type": "code",
      "execution_count": 1,
      "metadata": {
        "id": "8AParqTwIaoo"
      },
      "outputs": [],
      "source": [
        "# TURN ON GPU\n",
        "\n",
        "import tensorflow as tf\n",
        "from tensorflow.keras.datasets import fashion_mnist\n",
        "from tensorflow.keras.layers import Conv2D, Dropout, MaxPooling2D, Flatten, Dense\n",
        "from tensorflow.keras.utils import to_categorical\n",
        "\n",
        "import numpy as np\n",
        "import matplotlib.pyplot as plt"
      ]
    },
    {
      "cell_type": "code",
      "source": [
        "#LOAD DATA\n",
        "(train_images, train_labels), (test_images, test_labels) = fashion_mnist.load_data()\n",
        "\n",
        "train_images = train_images.astype('float32') / 255\n",
        "test_images = test_images.astype('float32') / 255\n",
        "\n",
        "train_images = train_images.reshape(train_images.shape[0], 28, 28, 1)\n",
        "test_images = test_images.reshape(test_images.shape[0], 28, 28, 1)\n",
        "\n",
        "train_labels = tf.keras.utils.to_categorical(train_labels, 10)\n",
        "test_labels = tf.keras.utils.to_categorical(test_labels, 10)\n",
        "\n",
        "# 28x28 = 784\n",
        "#SI ES GRIS     28,28,1\n",
        "#SI ES COLOR    28,28,3\n",
        "#SI ES AMPLITUD 28,28,4\n"
      ],
      "metadata": {
        "id": "8YqL83-2Ibza"
      },
      "execution_count": 3,
      "outputs": []
    },
    {
      "cell_type": "code",
      "source": [
        "from tensorflow.keras import regularizers\n",
        "\n",
        "# 75 layers\n",
        "# image input 28,28,1\n",
        "# 3,3  \n",
        "# MaxPool2d(2,2)   padding stride\n",
        "# Flatten\n",
        "# dropout\n",
        "\n",
        "model = tf.keras.models.Sequential([\n",
        "   tf.keras.layers.Conv2D(75, (3,3), activation = \"relu\", input_shape= (28, 28, 1)),\n",
        "   tf.keras.layers.MaxPool2D((2,2)),\n",
        "   tf.keras.layers.Flatten(),\n",
        "\n",
        "  #28 x 28 = 784\n",
        "   tf.keras.layers.Dense(256, kernel_regularizer = regularizers.l2(1e-5), activation = \"relu\"),\n",
        "   tf.keras.layers.Dropout(0.2),\n",
        "\n",
        "   tf.keras.layers.Dense(128, kernel_regularizer= regularizers.l2(1e-5),activation = \"relu\"),\n",
        "   tf.keras.layers.Dropout(0.2),\n",
        "\n",
        "   tf.keras.layers.Dense(10, activation = \"softmax\")\n",
        "])\n"
      ],
      "metadata": {
        "id": "-UyE797QIgmC"
      },
      "execution_count": 4,
      "outputs": []
    },
    {
      "cell_type": "code",
      "source": [
        "from tensorflow import keras\n",
        "\n",
        "model.compile(loss='categorical_crossentropy',\n",
        "            # optimizer='rmsprop',\n",
        "             optimizer = keras.optimizers.Adam(learning_rate=0.001),\n",
        "             metrics=['accuracy'])\n",
        "\n",
        "\n",
        "from tensorflow.keras.callbacks import Callback"
      ],
      "metadata": {
        "id": "0UBpvoVrJYK_"
      },
      "execution_count": 6,
      "outputs": []
    },
    {
      "cell_type": "code",
      "source": [
        "class TrainingCallback(Callback):\n",
        "  def on_epoch_end(self, epoch, logs = {}):\n",
        "    if logs.get(\"accuracy\") > 0.95:\n",
        "      print(\"Lo logramos, nuestro modelo llego a 95%, detenemos entrenamiento \"+str(epoch))\n",
        "      self.model.stop_training = True\n",
        "\n",
        "callback = TrainingCallback()"
      ],
      "metadata": {
        "id": "FJxdLyiJIlS-"
      },
      "execution_count": 8,
      "outputs": []
    },
    {
      "cell_type": "code",
      "source": [
        "history=model.fit(train_images,\n",
        "         train_labels,\n",
        "         batch_size=64,\n",
        "         callbacks = [callback],\n",
        "         epochs=10)\n",
        "\n",
        "score = model.evaluate(test_images, test_labels, verbose=0)\n",
        "print(score)\n",
        "\n",
        "\n",
        "import pandas as pd\n",
        "pd.DataFrame(history.history).plot(figsize=(10,8));"
      ],
      "metadata": {
        "colab": {
          "base_uri": "https://localhost:8080/",
          "height": 830
        },
        "id": "hs0Xb-mXJmMt",
        "outputId": "09aa3bc0-1508-46c5-ee90-9810af0b7f6f"
      },
      "execution_count": 9,
      "outputs": [
        {
          "output_type": "stream",
          "name": "stdout",
          "text": [
            "Epoch 1/40\n",
            "938/938 [==============================] - 6s 6ms/step - loss: 0.3120 - accuracy: 0.8956\n",
            "Epoch 2/40\n",
            "938/938 [==============================] - 5s 5ms/step - loss: 0.2797 - accuracy: 0.9075\n",
            "Epoch 3/40\n",
            "938/938 [==============================] - 5s 5ms/step - loss: 0.2569 - accuracy: 0.9179\n",
            "Epoch 4/40\n",
            "938/938 [==============================] - 5s 5ms/step - loss: 0.2357 - accuracy: 0.9273\n",
            "Epoch 5/40\n",
            "938/938 [==============================] - 5s 5ms/step - loss: 0.2238 - accuracy: 0.9318\n",
            "Epoch 6/40\n",
            "938/938 [==============================] - 5s 5ms/step - loss: 0.2117 - accuracy: 0.9381\n",
            "Epoch 7/40\n",
            "938/938 [==============================] - 5s 5ms/step - loss: 0.2005 - accuracy: 0.9436\n",
            "Epoch 8/40\n",
            "938/938 [==============================] - 5s 5ms/step - loss: 0.1907 - accuracy: 0.9485\n",
            "Epoch 9/40\n",
            "933/938 [============================>.] - ETA: 0s - loss: 0.1800 - accuracy: 0.9535Lo logramos, nuestro modelo llego a 95%, detenemos entrenamiento 8\n",
            "938/938 [==============================] - 5s 5ms/step - loss: 0.1799 - accuracy: 0.9536\n",
            "[0.3187641501426697, 0.9187999963760376]\n"
          ]
        },
        {
          "output_type": "display_data",
          "data": {
            "text/plain": [
              "<Figure size 720x576 with 1 Axes>"
            ],
            "image/png": "[encoded data removed]"
          },
          "metadata": {
            "needs_background": "light"
          }
        }
      ]
    },
    {
      "cell_type": "markdown",
      "source": [
        "ETA: 0s - loss: 0.1800 - accuracy: 0.9535Lo logramos, nuestro modelo llego a 95%, detenemos entrenamiento 8  <- 8 EPOCHS"
      ],
      "metadata": {
        "id": "RunlrncqKDQt"
      }
    },
    {
      "cell_type": "code",
      "source": [
        ""
      ],
      "metadata": {
        "id": "PgVHXs-vIryP"
      },
      "execution_count": null,
      "outputs": []
    }
  ]
}