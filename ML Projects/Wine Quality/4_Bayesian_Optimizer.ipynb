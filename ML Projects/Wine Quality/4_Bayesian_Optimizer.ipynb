{
  "nbformat": 4,
  "nbformat_minor": 0,
  "metadata": {
    "colab": {
      "name": "4.Bayesian Optimizer.ipynb",
      "provenance": [],
      "authorship_tag": "ABX9TyNMTBdmoOPffvvfuuFYCsP3",
      "include_colab_link": true
    },
    "kernelspec": {
      "name": "python3",
      "display_name": "Python 3"
    },
    "language_info": {
      "name": "python"
    }
  },
  "cells": [
    {
      "cell_type": "markdown",
      "metadata": {
        "id": "view-in-github",
        "colab_type": "text"
      },
      "source": [
        "<a href=\"https://colab.research.google.com/github/tomdaler/repository/blob/main/ML%20Projects/Wine%20Quality/4_Bayesian_Optimizer.ipynb\" target=\"_parent\"><img src=\"https://colab.research.google.com/assets/colab-badge.svg\" alt=\"Open In Colab\"/></a>"
      ]
    },
    {
      "cell_type": "markdown",
      "source": [
        "Wine Quality, using RandomForestRegressor, RandomForestClassificator RandomizedSearchCV"
      ],
      "metadata": {
        "id": "a1FK6w-NLTgI"
      }
    },
    {
      "cell_type": "code",
      "source": [
        "import numpy as np\n",
        "import pandas as pd\n",
        "from sklearn.model_selection import train_test_split"
      ],
      "metadata": {
        "id": "TuO3eqZlLT_l"
      },
      "execution_count": 26,
      "outputs": []
    },
    {
      "cell_type": "code",
      "source": [
        "df = pd.read_csv('winequality-red.csv')\n",
        "\n",
        "df['quality']= df['quality']-3\n",
        "from sklearn.preprocessing import StandardScaler\n",
        "scale = StandardScaler()\n",
        "\n",
        "scaled_features = df.copy()\n",
        "\n",
        "col_names = ['fixed acidity','free sulfur dioxide','total sulfur dioxide','alcohol','pH','residual sugar']\n",
        "features = scaled_features[col_names]\n",
        "df_new = scale.fit_transform(features)\n",
        "\n",
        "scaled_features[col_names] = df_new\n"
      ],
      "metadata": {
        "id": "UHT0akX3Irvo"
      },
      "execution_count": 27,
      "outputs": []
    },
    {
      "cell_type": "code",
      "source": [
        "X = scaled_features.drop(['quality'],axis=1)\n",
        "y = scaled_features['quality']\n",
        "\n",
        "X=X.drop(['alcohol', 'sulphates','pH','density','total sulfur dioxide'], axis=1)\n"
      ],
      "metadata": {
        "id": "Q-lU-wU4Ixlx"
      },
      "execution_count": 30,
      "outputs": []
    },
    {
      "cell_type": "code",
      "source": [
        "train_X, test_X, train_y, test_y = train_test_split(X, y, test_size=0.3, random_state=2)\n"
      ],
      "metadata": {
        "id": "N22Gls0V78oL"
      },
      "execution_count": 31,
      "outputs": []
    },
    {
      "cell_type": "code",
      "source": [
        "!pip install h2o\n",
        "!pip install bayesian-optimization"
      ],
      "metadata": {
        "colab": {
          "base_uri": "https://localhost:8080/"
        },
        "id": "JT9sF9SKeVny",
        "outputId": "14bfd48a-a45c-4d8a-a90a-1f6e9e86d490"
      },
      "execution_count": 32,
      "outputs": [
        {
          "output_type": "stream",
          "name": "stdout",
          "text": [
            "Collecting h2o\n",
            "  Downloading h2o-3.36.0.4.tar.gz (176.2 MB)\n",
            "\u001b[K     |████████████████████████████████| 176.2 MB 1.7 kB/s \n",
            "\u001b[?25hRequirement already satisfied: requests in /usr/local/lib/python3.7/dist-packages (from h2o) (2.23.0)\n",
            "Requirement already satisfied: tabulate in /usr/local/lib/python3.7/dist-packages (from h2o) (0.8.9)\n",
            "Requirement already satisfied: future in /usr/local/lib/python3.7/dist-packages (from h2o) (0.16.0)\n",
            "Requirement already satisfied: idna<3,>=2.5 in /usr/local/lib/python3.7/dist-packages (from requests->h2o) (2.10)\n",
            "Requirement already satisfied: urllib3!=1.25.0,!=1.25.1,<1.26,>=1.21.1 in /usr/local/lib/python3.7/dist-packages (from requests->h2o) (1.24.3)\n",
            "Requirement already satisfied: chardet<4,>=3.0.2 in /usr/local/lib/python3.7/dist-packages (from requests->h2o) (3.0.4)\n",
            "Requirement already satisfied: certifi>=2017.4.17 in /usr/local/lib/python3.7/dist-packages (from requests->h2o) (2021.10.8)\n",
            "Building wheels for collected packages: h2o\n",
            "  Building wheel for h2o (setup.py) ... \u001b[?25l\u001b[?25hdone\n",
            "  Created wheel for h2o: filename=h2o-3.36.0.4-py2.py3-none-any.whl size=176245474 sha256=65671809f518c67f47f1e81e79fd82713ead126ad07ec6a46c0f3c7f9aec89cb\n",
            "  Stored in directory: /root/.cache/pip/wheels/66/7c/3b/6558f625a9415a96f7f650d33f1def07b6e30b0c871e8407a1\n",
            "Successfully built h2o\n",
            "Installing collected packages: h2o\n",
            "Successfully installed h2o-3.36.0.4\n",
            "Collecting bayesian-optimization\n",
            "  Downloading bayesian-optimization-1.2.0.tar.gz (14 kB)\n",
            "Requirement already satisfied: numpy>=1.9.0 in /usr/local/lib/python3.7/dist-packages (from bayesian-optimization) (1.21.5)\n",
            "Requirement already satisfied: scipy>=0.14.0 in /usr/local/lib/python3.7/dist-packages (from bayesian-optimization) (1.4.1)\n",
            "Requirement already satisfied: scikit-learn>=0.18.0 in /usr/local/lib/python3.7/dist-packages (from bayesian-optimization) (1.0.2)\n",
            "Requirement already satisfied: threadpoolctl>=2.0.0 in /usr/local/lib/python3.7/dist-packages (from scikit-learn>=0.18.0->bayesian-optimization) (3.1.0)\n",
            "Requirement already satisfied: joblib>=0.11 in /usr/local/lib/python3.7/dist-packages (from scikit-learn>=0.18.0->bayesian-optimization) (1.1.0)\n",
            "Building wheels for collected packages: bayesian-optimization\n",
            "  Building wheel for bayesian-optimization (setup.py) ... \u001b[?25l\u001b[?25hdone\n",
            "  Created wheel for bayesian-optimization: filename=bayesian_optimization-1.2.0-py3-none-any.whl size=11685 sha256=f67e8be8610d849acaa2fe0a59b1e91f64993dbe19766d7febafa45cc57a9b67\n",
            "  Stored in directory: /root/.cache/pip/wheels/fd/9b/71/f127d694e02eb40bcf18c7ae9613b88a6be4470f57a8528c5b\n",
            "Successfully built bayesian-optimization\n",
            "Installing collected packages: bayesian-optimization\n",
            "Successfully installed bayesian-optimization-1.2.0\n"
          ]
        }
      ]
    },
    {
      "cell_type": "code",
      "source": [
        "import h2o\n",
        "from h2o.estimators.gbm import H2OGradientBoostingEstimator\n",
        "from bayes_opt import BayesianOptimization\n",
        "h2o.init()\n",
        "h2o.remove_all()"
      ],
      "metadata": {
        "colab": {
          "base_uri": "https://localhost:8080/",
          "height": 509
        },
        "id": "aYmnwP5SegGV",
        "outputId": "0c460198-102d-4b76-ccdf-a4ad06af7f98"
      },
      "execution_count": 34,
      "outputs": [
        {
          "output_type": "stream",
          "name": "stdout",
          "text": [
            "Checking whether there is an H2O instance running at http://localhost:54321 ..... not found.\n",
            "Attempting to start a local H2O server...\n",
            "  Java Version: openjdk version \"11.0.14\" 2022-01-18; OpenJDK Runtime Environment (build 11.0.14+9-Ubuntu-0ubuntu2.18.04); OpenJDK 64-Bit Server VM (build 11.0.14+9-Ubuntu-0ubuntu2.18.04, mixed mode, sharing)\n",
            "  Starting server from /usr/local/lib/python3.7/dist-packages/h2o/backend/bin/h2o.jar\n",
            "  Ice root: /tmp/tmpuyxryze1\n",
            "  JVM stdout: /tmp/tmpuyxryze1/h2o_unknownUser_started_from_python.out\n",
            "  JVM stderr: /tmp/tmpuyxryze1/h2o_unknownUser_started_from_python.err\n",
            "  Server is running at http://127.0.0.1:54321\n",
            "Connecting to H2O server at http://127.0.0.1:54321 ... successful.\n"
          ]
        },
        {
          "output_type": "display_data",
          "data": {
            "text/plain": [
              "--------------------------  ----------------------------------\n",
              "H2O_cluster_uptime:         03 secs\n",
              "H2O_cluster_timezone:       Etc/UTC\n",
              "H2O_data_parsing_timezone:  UTC\n",
              "H2O_cluster_version:        3.36.0.4\n",
              "H2O_cluster_version_age:    8 days\n",
              "H2O_cluster_name:           H2O_from_python_unknownUser_0h9evu\n",
              "H2O_cluster_total_nodes:    1\n",
              "H2O_cluster_free_memory:    3.172 Gb\n",
              "H2O_cluster_total_cores:    2\n",
              "H2O_cluster_allowed_cores:  2\n",
              "H2O_cluster_status:         locked, healthy\n",
              "H2O_connection_url:         http://127.0.0.1:54321\n",
              "H2O_connection_proxy:       {\"http\": null, \"https\": null}\n",
              "H2O_internal_security:      False\n",
              "Python_version:             3.7.13 final\n",
              "--------------------------  ----------------------------------"
            ],
            "text/html": [
              "<div style=\"overflow:auto\"><table style=\"width:50%\"><tr><td>H2O_cluster_uptime:</td>\n",
              "<td>03 secs</td></tr>\n",
              "<tr><td>H2O_cluster_timezone:</td>\n",
              "<td>Etc/UTC</td></tr>\n",
              "<tr><td>H2O_data_parsing_timezone:</td>\n",
              "<td>UTC</td></tr>\n",
              "<tr><td>H2O_cluster_version:</td>\n",
              "<td>3.36.0.4</td></tr>\n",
              "<tr><td>H2O_cluster_version_age:</td>\n",
              "<td>8 days </td></tr>\n",
              "<tr><td>H2O_cluster_name:</td>\n",
              "<td>H2O_from_python_unknownUser_0h9evu</td></tr>\n",
              "<tr><td>H2O_cluster_total_nodes:</td>\n",
              "<td>1</td></tr>\n",
              "<tr><td>H2O_cluster_free_memory:</td>\n",
              "<td>3.172 Gb</td></tr>\n",
              "<tr><td>H2O_cluster_total_cores:</td>\n",
              "<td>2</td></tr>\n",
              "<tr><td>H2O_cluster_allowed_cores:</td>\n",
              "<td>2</td></tr>\n",
              "<tr><td>H2O_cluster_status:</td>\n",
              "<td>locked, healthy</td></tr>\n",
              "<tr><td>H2O_connection_url:</td>\n",
              "<td>http://127.0.0.1:54321</td></tr>\n",
              "<tr><td>H2O_connection_proxy:</td>\n",
              "<td>{\"http\": null, \"https\": null}</td></tr>\n",
              "<tr><td>H2O_internal_security:</td>\n",
              "<td>False</td></tr>\n",
              "<tr><td>Python_version:</td>\n",
              "<td>3.7.13 final</td></tr></table></div>"
            ]
          },
          "metadata": {}
        }
      ]
    },
    {
      "cell_type": "code",
      "source": [
        "data = h2o.upload_file('winequality-red.csv')\n",
        "train_cols = [x for x in data.col_names if x not in ['quality']]\n",
        "target = \"quality\"\n",
        "train, test = data.split_frame(ratios=[0.7])\n",
        "\n",
        "\n",
        "#train, test = df.split_frame(ratios=[0.7])\n",
        "\n",
        "def train_model(max_depth, \n",
        "                ntrees,\n",
        "                min_rows, \n",
        "                learn_rate, \n",
        "                sample_rate, \n",
        "                col_sample_rate):\n",
        "    params = {\n",
        "        'max_depth': int(max_depth),\n",
        "        'ntrees': int(ntrees),\n",
        "        'min_rows': int(min_rows),\n",
        "        'learn_rate':learn_rate,\n",
        "        'sample_rate':sample_rate,\n",
        "        'col_sample_rate':col_sample_rate\n",
        "    }\n",
        "    model = H2OGradientBoostingEstimator(nfolds=5,**params)\n",
        "    model.train(x=train_cols, y=target, training_frame=train)\n",
        "    return -model.rmse()"
      ],
      "metadata": {
        "colab": {
          "base_uri": "https://localhost:8080/"
        },
        "id": "VwCZ1Mo2ek8P",
        "outputId": "7224d4df-f680-4195-8d85-5a74ebce3d19"
      },
      "execution_count": 35,
      "outputs": [
        {
          "output_type": "stream",
          "name": "stdout",
          "text": [
            "Parse progress: |████████████████████████████████████████████████████████████████| (done) 100%\n"
          ]
        }
      ]
    },
    {
      "cell_type": "code",
      "source": [
        "bounds = {\n",
        "    'max_depth':(5,10),\n",
        "    'ntrees': (100,200),\n",
        "    'min_rows':(10,30),\n",
        "    'learn_rate':(0.001, 0.01),\n",
        "    'sample_rate':(0.5,0.8),\n",
        "    'col_sample_rate':(0.5,0.8)\n",
        "}"
      ],
      "metadata": {
        "id": "l6zZJoHse3fC"
      },
      "execution_count": 36,
      "outputs": []
    },
    {
      "cell_type": "code",
      "source": [
        "optimizer = BayesianOptimization(\n",
        "    f=train_model,\n",
        "    pbounds=bounds,\n",
        "    random_state=1,\n",
        ")\n",
        "optimizer.maximize(init_points=10, n_iter=50)"
      ],
      "metadata": {
        "colab": {
          "base_uri": "https://localhost:8080/"
        },
        "id": "KXk4Vze7e7tQ",
        "outputId": "b03e3924-abd4-409c-8a7e-107c4b1e892e"
      },
      "execution_count": 37,
      "outputs": [
        {
          "output_type": "stream",
          "name": "stdout",
          "text": [
            "|   iter    |  target   | col_sa... | learn_... | max_depth | min_rows  |  ntrees   | sample... |\n",
            "-------------------------------------------------------------------------------------------------\n",
            "gbm Model Build progress: |██████████████████████████████████████████████████████| (done) 100%\n",
            "| \u001b[0m 1       \u001b[0m | \u001b[0m-0.6411  \u001b[0m | \u001b[0m 0.6251  \u001b[0m | \u001b[0m 0.007483\u001b[0m | \u001b[0m 5.001   \u001b[0m | \u001b[0m 16.05   \u001b[0m | \u001b[0m 114.7   \u001b[0m | \u001b[0m 0.5277  \u001b[0m |\n",
            "gbm Model Build progress: |██████████████████████████████████████████████████████| (done) 100%\n",
            "| \u001b[0m 2       \u001b[0m | \u001b[0m-0.6694  \u001b[0m | \u001b[0m 0.5559  \u001b[0m | \u001b[0m 0.00411 \u001b[0m | \u001b[0m 6.984   \u001b[0m | \u001b[0m 20.78   \u001b[0m | \u001b[0m 141.9   \u001b[0m | \u001b[0m 0.7056  \u001b[0m |\n",
            "gbm Model Build progress: |██████████████████████████████████████████████████████| (done) 100%\n",
            "| \u001b[95m 3       \u001b[0m | \u001b[95m-0.6057  \u001b[0m | \u001b[95m 0.5613  \u001b[0m | \u001b[95m 0.008903\u001b[0m | \u001b[95m 5.137   \u001b[0m | \u001b[95m 23.41   \u001b[0m | \u001b[95m 141.7   \u001b[0m | \u001b[95m 0.6676  \u001b[0m |\n",
            "gbm Model Build progress: |██████████████████████████████████████████████████████| (done) 100%\n",
            "| \u001b[0m 4       \u001b[0m | \u001b[0m-0.7195  \u001b[0m | \u001b[0m 0.5421  \u001b[0m | \u001b[0m 0.002783\u001b[0m | \u001b[0m 9.004   \u001b[0m | \u001b[0m 29.37   \u001b[0m | \u001b[0m 131.3   \u001b[0m | \u001b[0m 0.7077  \u001b[0m |\n",
            "gbm Model Build progress: |██████████████████████████████████████████████████████| (done) 100%\n",
            "| \u001b[95m 5       \u001b[0m | \u001b[95m-0.5945  \u001b[0m | \u001b[95m 0.7629  \u001b[0m | \u001b[95m 0.009051\u001b[0m | \u001b[95m 5.425   \u001b[0m | \u001b[95m 10.78   \u001b[0m | \u001b[95m 117.0   \u001b[0m | \u001b[95m 0.7634  \u001b[0m |\n",
            "gbm Model Build progress: |██████████████████████████████████████████████████████| (done) 100%\n",
            "| \u001b[0m 6       \u001b[0m | \u001b[0m-0.638   \u001b[0m | \u001b[0m 0.5295  \u001b[0m | \u001b[0m 0.00479 \u001b[0m | \u001b[0m 9.789   \u001b[0m | \u001b[0m 20.66   \u001b[0m | \u001b[0m 169.2   \u001b[0m | \u001b[0m 0.5947  \u001b[0m |\n",
            "gbm Model Build progress: |██████████████████████████████████████████████████████| (done) 100%\n",
            "| \u001b[95m 7       \u001b[0m | \u001b[95m-0.5767  \u001b[0m | \u001b[95m 0.706   \u001b[0m | \u001b[95m 0.008512\u001b[0m | \u001b[95m 5.091   \u001b[0m | \u001b[95m 25.0    \u001b[0m | \u001b[95m 198.9   \u001b[0m | \u001b[95m 0.7244  \u001b[0m |\n",
            "gbm Model Build progress: |██████████████████████████████████████████████████████| (done) 100%\n",
            "| \u001b[0m 8       \u001b[0m | \u001b[0m-0.5827  \u001b[0m | \u001b[0m 0.5841  \u001b[0m | \u001b[0m 0.008104\u001b[0m | \u001b[0m 5.516   \u001b[0m | \u001b[0m 18.96   \u001b[0m | \u001b[0m 190.9   \u001b[0m | \u001b[0m 0.5881  \u001b[0m |\n",
            "gbm Model Build progress: |██████████████████████████████████████████████████████| (done) 100%\n",
            "| \u001b[0m 9       \u001b[0m | \u001b[0m-0.743   \u001b[0m | \u001b[0m 0.5863  \u001b[0m | \u001b[0m 0.00217 \u001b[0m | \u001b[0m 5.097   \u001b[0m | \u001b[0m 23.58   \u001b[0m | \u001b[0m 121.2   \u001b[0m | \u001b[0m 0.5797  \u001b[0m |\n",
            "gbm Model Build progress: |██████████████████████████████████████████████████████| (done) 100%\n",
            "| \u001b[0m 10      \u001b[0m | \u001b[0m-0.7327  \u001b[0m | \u001b[0m 0.6475  \u001b[0m | \u001b[0m 0.00148 \u001b[0m | \u001b[0m 7.871   \u001b[0m | \u001b[0m 12.93   \u001b[0m | \u001b[0m 158.9   \u001b[0m | \u001b[0m 0.7099  \u001b[0m |\n",
            "gbm Model Build progress: |██████████████████████████████████████████████████████| (done) 100%\n",
            "| \u001b[0m 11      \u001b[0m | \u001b[0m-0.7674  \u001b[0m | \u001b[0m 0.5781  \u001b[0m | \u001b[0m 0.001245\u001b[0m | \u001b[0m 5.562   \u001b[0m | \u001b[0m 10.57   \u001b[0m | \u001b[0m 117.1   \u001b[0m | \u001b[0m 0.688   \u001b[0m |\n",
            "gbm Model Build progress: |██████████████████████████████████████████████████████| (done) 100%\n",
            "| \u001b[0m 12      \u001b[0m | \u001b[0m-0.6895  \u001b[0m | \u001b[0m 0.6793  \u001b[0m | \u001b[0m 0.003866\u001b[0m | \u001b[0m 8.315   \u001b[0m | \u001b[0m 18.97   \u001b[0m | \u001b[0m 117.2   \u001b[0m | \u001b[0m 0.5909  \u001b[0m |\n",
            "gbm Model Build progress: |██████████████████████████████████████████████████████| (done) 100%\n",
            "| \u001b[0m 13      \u001b[0m | \u001b[0m-0.6657  \u001b[0m | \u001b[0m 0.7692  \u001b[0m | \u001b[0m 0.005767\u001b[0m | \u001b[0m 5.295   \u001b[0m | \u001b[0m 26.75   \u001b[0m | \u001b[0m 122.7   \u001b[0m | \u001b[0m 0.5555  \u001b[0m |\n",
            "gbm Model Build progress: |██████████████████████████████████████████████████████| (done) 100%\n",
            "| \u001b[0m 14      \u001b[0m | \u001b[0m-0.7222  \u001b[0m | \u001b[0m 0.6229  \u001b[0m | \u001b[0m 0.002101\u001b[0m | \u001b[0m 8.65    \u001b[0m | \u001b[0m 27.36   \u001b[0m | \u001b[0m 166.3   \u001b[0m | \u001b[0m 0.6185  \u001b[0m |\n",
            "gbm Model Build progress: |██████████████████████████████████████████████████████| (done) 100%\n",
            "| \u001b[0m 15      \u001b[0m | \u001b[0m-0.7586  \u001b[0m | \u001b[0m 0.775   \u001b[0m | \u001b[0m 0.001852\u001b[0m | \u001b[0m 9.933   \u001b[0m | \u001b[0m 28.94   \u001b[0m | \u001b[0m 101.3   \u001b[0m | \u001b[0m 0.6362  \u001b[0m |\n",
            "gbm Model Build progress: |██████████████████████████████████████████████████████| (done) 100%\n",
            "| \u001b[0m 16      \u001b[0m | \u001b[0m-0.6185  \u001b[0m | \u001b[0m 0.7082  \u001b[0m | \u001b[0m 0.006162\u001b[0m | \u001b[0m 6.645   \u001b[0m | \u001b[0m 24.2    \u001b[0m | \u001b[0m 179.7   \u001b[0m | \u001b[0m 0.5091  \u001b[0m |\n",
            "gbm Model Build progress: |██████████████████████████████████████████████████████| (done) 100%\n",
            "| \u001b[0m 17      \u001b[0m | \u001b[0m-0.6586  \u001b[0m | \u001b[0m 0.5605  \u001b[0m | \u001b[0m 0.003643\u001b[0m | \u001b[0m 5.796   \u001b[0m | \u001b[0m 15.61   \u001b[0m | \u001b[0m 181.2   \u001b[0m | \u001b[0m 0.7119  \u001b[0m |\n",
            "gbm Model Build progress: |██████████████████████████████████████████████████████| (done) 100%\n",
            "| \u001b[95m 18      \u001b[0m | \u001b[95m-0.5605  \u001b[0m | \u001b[95m 0.5014  \u001b[0m | \u001b[95m 0.008389\u001b[0m | \u001b[95m 7.562   \u001b[0m | \u001b[95m 20.73   \u001b[0m | \u001b[95m 173.8   \u001b[0m | \u001b[95m 0.7836  \u001b[0m |\n",
            "gbm Model Build progress: |██████████████████████████████████████████████████████| (done) 100%\n",
            "| \u001b[0m 19      \u001b[0m | \u001b[0m-0.5608  \u001b[0m | \u001b[0m 0.5102  \u001b[0m | \u001b[0m 0.007467\u001b[0m | \u001b[0m 9.318   \u001b[0m | \u001b[0m 16.01   \u001b[0m | \u001b[0m 184.7   \u001b[0m | \u001b[0m 0.6266  \u001b[0m |\n",
            "gbm Model Build progress: |██████████████████████████████████████████████████████| (done) 100%\n",
            "| \u001b[0m 20      \u001b[0m | \u001b[0m-0.7186  \u001b[0m | \u001b[0m 0.7694  \u001b[0m | \u001b[0m 0.001778\u001b[0m | \u001b[0m 7.798   \u001b[0m | \u001b[0m 15.1    \u001b[0m | \u001b[0m 175.6   \u001b[0m | \u001b[0m 0.5713  \u001b[0m |\n",
            "gbm Model Build progress: |██████████████████████████████████████████████████████| (done) 100%\n",
            "| \u001b[0m 21      \u001b[0m | \u001b[0m-0.6018  \u001b[0m | \u001b[0m 0.7967  \u001b[0m | \u001b[0m 0.007713\u001b[0m | \u001b[0m 6.613   \u001b[0m | \u001b[0m 17.48   \u001b[0m | \u001b[0m 132.6   \u001b[0m | \u001b[0m 0.6742  \u001b[0m |\n",
            "gbm Model Build progress: |██████████████████████████████████████████████████████| (done) 100%\n",
            "| \u001b[0m 22      \u001b[0m | \u001b[0m-0.6791  \u001b[0m | \u001b[0m 0.7275  \u001b[0m | \u001b[0m 0.002834\u001b[0m | \u001b[0m 6.167   \u001b[0m | \u001b[0m 21.71   \u001b[0m | \u001b[0m 176.7   \u001b[0m | \u001b[0m 0.7897  \u001b[0m |\n",
            "gbm Model Build progress: |██████████████████████████████████████████████████████| (done) 100%\n",
            "| \u001b[0m 23      \u001b[0m | \u001b[0m-0.5646  \u001b[0m | \u001b[0m 0.7622  \u001b[0m | \u001b[0m 0.00993 \u001b[0m | \u001b[0m 6.943   \u001b[0m | \u001b[0m 27.26   \u001b[0m | \u001b[0m 179.2   \u001b[0m | \u001b[0m 0.7175  \u001b[0m |\n",
            "gbm Model Build progress: |██████████████████████████████████████████████████████| (done) 100%\n",
            "| \u001b[0m 24      \u001b[0m | \u001b[0m-0.6522  \u001b[0m | \u001b[0m 0.5052  \u001b[0m | \u001b[0m 0.003982\u001b[0m | \u001b[0m 7.329   \u001b[0m | \u001b[0m 15.74   \u001b[0m | \u001b[0m 163.7   \u001b[0m | \u001b[0m 0.6192  \u001b[0m |\n",
            "gbm Model Build progress: |██████████████████████████████████████████████████████| (done) 100%\n",
            "| \u001b[0m 25      \u001b[0m | \u001b[0m-0.625   \u001b[0m | \u001b[0m 0.668   \u001b[0m | \u001b[0m 0.006306\u001b[0m | \u001b[0m 8.624   \u001b[0m | \u001b[0m 25.17   \u001b[0m | \u001b[0m 143.7   \u001b[0m | \u001b[0m 0.6981  \u001b[0m |\n",
            "gbm Model Build progress: |██████████████████████████████████████████████████████| (done) 100%\n",
            "| \u001b[0m 26      \u001b[0m | \u001b[0m-0.6289  \u001b[0m | \u001b[0m 0.5229  \u001b[0m | \u001b[0m 0.007035\u001b[0m | \u001b[0m 8.455   \u001b[0m | \u001b[0m 23.71   \u001b[0m | \u001b[0m 128.0   \u001b[0m | \u001b[0m 0.6851  \u001b[0m |\n",
            "gbm Model Build progress: |██████████████████████████████████████████████████████| (done) 100%\n",
            "| \u001b[0m 27      \u001b[0m | \u001b[0m-0.7781  \u001b[0m | \u001b[0m 0.7495  \u001b[0m | \u001b[0m 0.001066\u001b[0m | \u001b[0m 5.196   \u001b[0m | \u001b[0m 26.16   \u001b[0m | \u001b[0m 109.0   \u001b[0m | \u001b[0m 0.7269  \u001b[0m |\n",
            "gbm Model Build progress: |████████████████████████████████████████████████████████| (done) 100%\n",
            "| \u001b[0m 28      \u001b[0m | \u001b[0m-0.5712  \u001b[0m | \u001b[0m 0.5278  \u001b[0m | \u001b[0m 0.009943\u001b[0m | \u001b[0m 7.314   \u001b[0m | \u001b[0m 12.79   \u001b[0m | \u001b[0m 129.6   \u001b[0m | \u001b[0m 0.535   \u001b[0m |\n",
            "gbm Model Build progress: |██████████████████████████████████████████████████████| (done) 100%\n",
            "| \u001b[0m 29      \u001b[0m | \u001b[0m-0.7384  \u001b[0m | \u001b[0m 0.5468  \u001b[0m | \u001b[0m 0.001597\u001b[0m | \u001b[0m 9.569   \u001b[0m | \u001b[0m 11.96   \u001b[0m | \u001b[0m 131.2   \u001b[0m | \u001b[0m 0.6922  \u001b[0m |\n",
            "gbm Model Build progress: |██████████████████████████████████████████████████████| (done) 100%\n",
            "| \u001b[0m 30      \u001b[0m | \u001b[0m-0.6007  \u001b[0m | \u001b[0m 0.6217  \u001b[0m | \u001b[0m 0.007598\u001b[0m | \u001b[0m 9.283   \u001b[0m | \u001b[0m 29.82   \u001b[0m | \u001b[0m 185.5   \u001b[0m | \u001b[0m 0.5749  \u001b[0m |\n",
            "gbm Model Build progress: |██████████████████████████████████████████████████████| (done) 100%\n",
            "| \u001b[0m 31      \u001b[0m | \u001b[0m-0.6157  \u001b[0m | \u001b[0m 0.5043  \u001b[0m | \u001b[0m 0.006766\u001b[0m | \u001b[0m 5.083   \u001b[0m | \u001b[0m 27.76   \u001b[0m | \u001b[0m 193.9   \u001b[0m | \u001b[0m 0.5681  \u001b[0m |\n",
            "gbm Model Build progress: |██████████████████████████████████████████████████████| (done) 100%\n",
            "| \u001b[0m 32      \u001b[0m | \u001b[0m-0.6179  \u001b[0m | \u001b[0m 0.516   \u001b[0m | \u001b[0m 0.005907\u001b[0m | \u001b[0m 7.656   \u001b[0m | \u001b[0m 10.67   \u001b[0m | \u001b[0m 128.2   \u001b[0m | \u001b[0m 0.6523  \u001b[0m |\n",
            "gbm Model Build progress: |██████████████████████████████████████████████████████| (done) 100%\n",
            "| \u001b[0m 33      \u001b[0m | \u001b[0m-0.5702  \u001b[0m | \u001b[0m 0.645   \u001b[0m | \u001b[0m 0.007843\u001b[0m | \u001b[0m 9.055   \u001b[0m | \u001b[0m 25.62   \u001b[0m | \u001b[0m 187.6   \u001b[0m | \u001b[0m 0.7136  \u001b[0m |\n",
            "gbm Model Build progress: |██████████████████████████████████████████████████████| (done) 100%\n",
            "| \u001b[0m 34      \u001b[0m | \u001b[0m-0.7593  \u001b[0m | \u001b[0m 0.6135  \u001b[0m | \u001b[0m 0.001745\u001b[0m | \u001b[0m 7.536   \u001b[0m | \u001b[0m 18.49   \u001b[0m | \u001b[0m 102.9   \u001b[0m | \u001b[0m 0.5468  \u001b[0m |\n",
            "gbm Model Build progress: |██████████████████████████████████████████████████████| (done) 100%\n",
            "| \u001b[0m 35      \u001b[0m | \u001b[0m-0.7132  \u001b[0m | \u001b[0m 0.7114  \u001b[0m | \u001b[0m 0.002204\u001b[0m | \u001b[0m 8.991   \u001b[0m | \u001b[0m 22.72   \u001b[0m | \u001b[0m 161.7   \u001b[0m | \u001b[0m 0.66    \u001b[0m |\n",
            "gbm Model Build progress: |██████████████████████████████████████████████████████| (done) 100%\n",
            "| \u001b[95m 36      \u001b[0m | \u001b[95m-0.5594  \u001b[0m | \u001b[95m 0.7461  \u001b[0m | \u001b[95m 0.008707\u001b[0m | \u001b[95m 7.068   \u001b[0m | \u001b[95m 26.34   \u001b[0m | \u001b[95m 199.5   \u001b[0m | \u001b[95m 0.7092  \u001b[0m |\n",
            "gbm Model Build progress: |██████████████████████████████████████████████████████| (done) 100%\n",
            "| \u001b[0m 37      \u001b[0m | \u001b[0m-0.588   \u001b[0m | \u001b[0m 0.5032  \u001b[0m | \u001b[0m 0.007664\u001b[0m | \u001b[0m 8.456   \u001b[0m | \u001b[0m 23.26   \u001b[0m | \u001b[0m 194.9   \u001b[0m | \u001b[0m 0.5465  \u001b[0m |\n",
            "gbm Model Build progress: |██████████████████████████████████████████████████████| (done) 100%\n",
            "| \u001b[0m 38      \u001b[0m | \u001b[0m-0.6461  \u001b[0m | \u001b[0m 0.769   \u001b[0m | \u001b[0m 0.003658\u001b[0m | \u001b[0m 9.44    \u001b[0m | \u001b[0m 13.13   \u001b[0m | \u001b[0m 165.1   \u001b[0m | \u001b[0m 0.5849  \u001b[0m |\n",
            "gbm Model Build progress: |██████████████████████████████████████████████████████| (done) 100%\n",
            "| \u001b[0m 39      \u001b[0m | \u001b[0m-0.675   \u001b[0m | \u001b[0m 0.5182  \u001b[0m | \u001b[0m 0.004935\u001b[0m | \u001b[0m 7.19    \u001b[0m | \u001b[0m 24.74   \u001b[0m | \u001b[0m 117.7   \u001b[0m | \u001b[0m 0.6988  \u001b[0m |\n",
            "gbm Model Build progress: |██████████████████████████████████████████████████████| (done) 100%\n",
            "| \u001b[0m 40      \u001b[0m | \u001b[0m-0.5999  \u001b[0m | \u001b[0m 0.7891  \u001b[0m | \u001b[0m 0.009612\u001b[0m | \u001b[0m 5.605   \u001b[0m | \u001b[0m 14.98   \u001b[0m | \u001b[0m 112.2   \u001b[0m | \u001b[0m 0.7127  \u001b[0m |\n",
            "gbm Model Build progress: |██████████████████████████████████████████████████████| (done) 100%\n",
            "| \u001b[0m 41      \u001b[0m | \u001b[0m-0.6552  \u001b[0m | \u001b[0m 0.566   \u001b[0m | \u001b[0m 0.006036\u001b[0m | \u001b[0m 6.014   \u001b[0m | \u001b[0m 26.81   \u001b[0m | \u001b[0m 130.1   \u001b[0m | \u001b[0m 0.5335  \u001b[0m |\n",
            "gbm Model Build progress: |██████████████████████████████████████████████████████| (done) 100%\n",
            "| \u001b[0m 42      \u001b[0m | \u001b[0m-0.6611  \u001b[0m | \u001b[0m 0.6077  \u001b[0m | \u001b[0m 0.005088\u001b[0m | \u001b[0m 5.491   \u001b[0m | \u001b[0m 19.67   \u001b[0m | \u001b[0m 130.1   \u001b[0m | \u001b[0m 0.7715  \u001b[0m |\n",
            "gbm Model Build progress: |██████████████████████████████████████████████████████| (done) 100%\n",
            "| \u001b[0m 43      \u001b[0m | \u001b[0m-0.7356  \u001b[0m | \u001b[0m 0.5975  \u001b[0m | \u001b[0m 0.001383\u001b[0m | \u001b[0m 6.281   \u001b[0m | \u001b[0m 15.64   \u001b[0m | \u001b[0m 188.8   \u001b[0m | \u001b[0m 0.6138  \u001b[0m |\n",
            "gbm Model Build progress: |██████████████████████████████████████████████████████| (done) 100%\n",
            "| \u001b[0m 44      \u001b[0m | \u001b[0m-0.7226  \u001b[0m | \u001b[0m 0.537   \u001b[0m | \u001b[0m 0.002473\u001b[0m | \u001b[0m 7.839   \u001b[0m | \u001b[0m 12.93   \u001b[0m | \u001b[0m 112.7   \u001b[0m | \u001b[0m 0.7911  \u001b[0m |\n",
            "gbm Model Build progress: |██████████████████████████████████████████████████████| (done) 100%\n",
            "| \u001b[95m 45      \u001b[0m | \u001b[95m-0.5213  \u001b[0m | \u001b[95m 0.7671  \u001b[0m | \u001b[95m 0.009786\u001b[0m | \u001b[95m 7.252   \u001b[0m | \u001b[95m 17.77   \u001b[0m | \u001b[95m 194.9   \u001b[0m | \u001b[95m 0.6746  \u001b[0m |\n",
            "gbm Model Build progress: |██████████████████████████████████████████████████████| (done) 100%\n",
            "| \u001b[0m 46      \u001b[0m | \u001b[0m-0.6966  \u001b[0m | \u001b[0m 0.7969  \u001b[0m | \u001b[0m 0.002734\u001b[0m | \u001b[0m 6.665   \u001b[0m | \u001b[0m 29.2    \u001b[0m | \u001b[0m 177.6   \u001b[0m | \u001b[0m 0.6017  \u001b[0m |\n",
            "gbm Model Build progress: |██████████████████████████████████████████████████████| (done) 100%\n",
            "| \u001b[0m 47      \u001b[0m | \u001b[0m-0.6908  \u001b[0m | \u001b[0m 0.7969  \u001b[0m | \u001b[0m 0.002493\u001b[0m | \u001b[0m 5.194   \u001b[0m | \u001b[0m 13.73   \u001b[0m | \u001b[0m 184.0   \u001b[0m | \u001b[0m 0.6557  \u001b[0m |\n",
            "gbm Model Build progress: |██████████████████████████████████████████████████████| (done) 100%\n",
            "| \u001b[0m 48      \u001b[0m | \u001b[0m-0.6924  \u001b[0m | \u001b[0m 0.7405  \u001b[0m | \u001b[0m 0.003056\u001b[0m | \u001b[0m 7.965   \u001b[0m | \u001b[0m 23.95   \u001b[0m | \u001b[0m 152.0   \u001b[0m | \u001b[0m 0.6113  \u001b[0m |\n",
            "gbm Model Build progress: |██████████████████████████████████████████████████████| (done) 100%\n",
            "| \u001b[0m 49      \u001b[0m | \u001b[0m-0.6131  \u001b[0m | \u001b[0m 0.556   \u001b[0m | \u001b[0m 0.00744 \u001b[0m | \u001b[0m 8.539   \u001b[0m | \u001b[0m 25.61   \u001b[0m | \u001b[0m 152.2   \u001b[0m | \u001b[0m 0.5814  \u001b[0m |\n",
            "gbm Model Build progress: |██████████████████████████████████████████████████████| (done) 100%\n",
            "| \u001b[0m 50      \u001b[0m | \u001b[0m-0.6605  \u001b[0m | \u001b[0m 0.7979  \u001b[0m | \u001b[0m 0.003569\u001b[0m | \u001b[0m 5.459   \u001b[0m | \u001b[0m 24.63   \u001b[0m | \u001b[0m 189.5   \u001b[0m | \u001b[0m 0.7682  \u001b[0m |\n",
            "gbm Model Build progress: |██████████████████████████████████████████████████████| (done) 100%\n",
            "| \u001b[0m 51      \u001b[0m | \u001b[0m-0.6022  \u001b[0m | \u001b[0m 0.6456  \u001b[0m | \u001b[0m 0.006524\u001b[0m | \u001b[0m 7.532   \u001b[0m | \u001b[0m 17.97   \u001b[0m | \u001b[0m 141.7   \u001b[0m | \u001b[0m 0.7436  \u001b[0m |\n",
            "gbm Model Build progress: |██████████████████████████████████████████████████████| (done) 100%\n",
            "| \u001b[0m 52      \u001b[0m | \u001b[0m-0.5788  \u001b[0m | \u001b[0m 0.7727  \u001b[0m | \u001b[0m 0.006186\u001b[0m | \u001b[0m 5.177   \u001b[0m | \u001b[0m 10.81   \u001b[0m | \u001b[0m 193.3   \u001b[0m | \u001b[0m 0.7863  \u001b[0m |\n",
            "gbm Model Build progress: |██████████████████████████████████████████████████████| (done) 100%\n",
            "| \u001b[0m 53      \u001b[0m | \u001b[0m-0.6689  \u001b[0m | \u001b[0m 0.6278  \u001b[0m | \u001b[0m 0.005293\u001b[0m | \u001b[0m 8.29    \u001b[0m | \u001b[0m 27.25   \u001b[0m | \u001b[0m 113.9   \u001b[0m | \u001b[0m 0.7683  \u001b[0m |\n",
            "gbm Model Build progress: |██████████████████████████████████████████████████████| (done) 100%\n",
            "| \u001b[0m 54      \u001b[0m | \u001b[0m-0.5868  \u001b[0m | \u001b[0m 0.6159  \u001b[0m | \u001b[0m 0.009138\u001b[0m | \u001b[0m 8.961   \u001b[0m | \u001b[0m 23.93   \u001b[0m | \u001b[0m 143.9   \u001b[0m | \u001b[0m 0.636   \u001b[0m |\n",
            "gbm Model Build progress: |██████████████████████████████████████████████████████| (done) 100%\n",
            "| \u001b[0m 55      \u001b[0m | \u001b[0m-0.554   \u001b[0m | \u001b[0m 0.7799  \u001b[0m | \u001b[0m 0.007992\u001b[0m | \u001b[0m 7.001   \u001b[0m | \u001b[0m 10.3    \u001b[0m | \u001b[0m 150.4   \u001b[0m | \u001b[0m 0.5747  \u001b[0m |\n",
            "gbm Model Build progress: |██████████████████████████████████████████████████████| (done) 100%\n",
            "| \u001b[0m 56      \u001b[0m | \u001b[0m-0.7458  \u001b[0m | \u001b[0m 0.6164  \u001b[0m | \u001b[0m 0.00108 \u001b[0m | \u001b[0m 8.763   \u001b[0m | \u001b[0m 14.27   \u001b[0m | \u001b[0m 193.6   \u001b[0m | \u001b[0m 0.5855  \u001b[0m |\n",
            "gbm Model Build progress: |██████████████████████████████████████████████████████| (done) 100%\n",
            "| \u001b[0m 57      \u001b[0m | \u001b[0m-0.5676  \u001b[0m | \u001b[0m 0.5241  \u001b[0m | \u001b[0m 0.008692\u001b[0m | \u001b[0m 6.17    \u001b[0m | \u001b[0m 15.4    \u001b[0m | \u001b[0m 166.8   \u001b[0m | \u001b[0m 0.644   \u001b[0m |\n",
            "gbm Model Build progress: |██████████████████████████████████████████████████████| (done) 100%\n",
            "| \u001b[0m 58      \u001b[0m | \u001b[0m-0.6148  \u001b[0m | \u001b[0m 0.5526  \u001b[0m | \u001b[0m 0.00521 \u001b[0m | \u001b[0m 7.382   \u001b[0m | \u001b[0m 10.45   \u001b[0m | \u001b[0m 150.0   \u001b[0m | \u001b[0m 0.5665  \u001b[0m |\n",
            "gbm Model Build progress: |██████████████████████████████████████████████████████| (done) 100%\n",
            "| \u001b[0m 59      \u001b[0m | \u001b[0m-0.6506  \u001b[0m | \u001b[0m 0.533   \u001b[0m | \u001b[0m 0.004011\u001b[0m | \u001b[0m 8.73    \u001b[0m | \u001b[0m 28.87   \u001b[0m | \u001b[0m 191.3   \u001b[0m | \u001b[0m 0.7226  \u001b[0m |\n",
            "gbm Model Build progress: |██████████████████████████████████████████████████████| (done) 100%\n",
            "| \u001b[0m 60      \u001b[0m | \u001b[0m-0.6713  \u001b[0m | \u001b[0m 0.5102  \u001b[0m | \u001b[0m 0.003745\u001b[0m | \u001b[0m 5.272   \u001b[0m | \u001b[0m 21.95   \u001b[0m | \u001b[0m 178.4   \u001b[0m | \u001b[0m 0.5798  \u001b[0m |\n",
            "=================================================================================================\n"
          ]
        }
      ]
    },
    {
      "cell_type": "code",
      "source": [
        "optimizer.max"
      ],
      "metadata": {
        "colab": {
          "base_uri": "https://localhost:8080/"
        },
        "id": "aB-A_HMlfBIq",
        "outputId": "844371ae-ef1a-462e-e22f-e03cce75122f"
      },
      "execution_count": 38,
      "outputs": [
        {
          "output_type": "execute_result",
          "data": {
            "text/plain": [
              "{'params': {'col_sample_rate': 0.7671344314874786,\n",
              "  'learn_rate': 0.009785959643160268,\n",
              "  'max_depth': 7.251777220993257,\n",
              "  'min_rows': 17.765367664771894,\n",
              "  'ntrees': 194.94105772340743,\n",
              "  'sample_rate': 0.6746206311896739},\n",
              " 'target': -0.5212552951937567}"
            ]
          },
          "metadata": {},
          "execution_count": 38
        }
      ]
    },
    {
      "cell_type": "code",
      "source": [
        "from sklearn.metrics import roc_auc_score\n",
        "from sklearn.svm import SVC\n",
        "from bayes_opt import BayesianOptimization, UtilityFunction\n",
        "\n",
        "train_X, test_X, train_y, test_y = train_test_split(X, y, test_size=0.3, random_state=2)\n",
        "\n",
        "\n",
        "def black_box_function(C):\n",
        "\n",
        "    # C: SVC hyper parameter to optimize for.\n",
        "    model = SVC(C = C)\n",
        "    model.fit(train_X, train_y)\n",
        "    y_score = model.decision_function(test_X)\n",
        "    f = roc_auc_score(test_y, y_score, multi_class='ovr')\n",
        "\n",
        "    return f# Set range of C to optimize for.\n"
      ],
      "metadata": {
        "id": "uLEcDZlsfkD3"
      },
      "execution_count": 46,
      "outputs": []
    },
    {
      "cell_type": "code",
      "source": [
        "model = SVC(C = 5)\n",
        "model.fit(train_X, train_y)\n",
        "y_score = model.decision_function(test_X)\n",
        "f = roc_auc_score(test_y, y_score, multi_class='ovr')  # ovr ovo raise\n",
        "\n",
        "#clf = LogisticRegression(solver=\"liblinear\").fit(X, y)\n",
        "#>>> roc_auc_score(y, clf.predict_proba(X), multi_class='ovr')\n"
      ],
      "metadata": {
        "colab": {
          "base_uri": "https://localhost:8080/",
          "height": 398
        },
        "id": "IhHPtRB_i2-4",
        "outputId": "8bf55e16-04e9-4d0d-e4f1-fb281f8dbf27"
      },
      "execution_count": 51,
      "outputs": [
        {
          "output_type": "error",
          "ename": "ValueError",
          "evalue": "ignored",
          "traceback": [
            "\u001b[0;31m---------------------------------------------------------------------------\u001b[0m",
            "\u001b[0;31mValueError\u001b[0m                                Traceback (most recent call last)",
            "\u001b[0;32m<ipython-input-51-c66b52f34455>\u001b[0m in \u001b[0;36m<module>\u001b[0;34m()\u001b[0m\n\u001b[1;32m      2\u001b[0m \u001b[0mmodel\u001b[0m\u001b[0;34m.\u001b[0m\u001b[0mfit\u001b[0m\u001b[0;34m(\u001b[0m\u001b[0mtrain_X\u001b[0m\u001b[0;34m,\u001b[0m \u001b[0mtrain_y\u001b[0m\u001b[0;34m)\u001b[0m\u001b[0;34m\u001b[0m\u001b[0;34m\u001b[0m\u001b[0m\n\u001b[1;32m      3\u001b[0m \u001b[0my_score\u001b[0m \u001b[0;34m=\u001b[0m \u001b[0mmodel\u001b[0m\u001b[0;34m.\u001b[0m\u001b[0mdecision_function\u001b[0m\u001b[0;34m(\u001b[0m\u001b[0mtest_X\u001b[0m\u001b[0;34m)\u001b[0m\u001b[0;34m\u001b[0m\u001b[0;34m\u001b[0m\u001b[0m\n\u001b[0;32m----> 4\u001b[0;31m \u001b[0mf\u001b[0m \u001b[0;34m=\u001b[0m \u001b[0mroc_auc_score\u001b[0m\u001b[0;34m(\u001b[0m\u001b[0mtest_y\u001b[0m\u001b[0;34m,\u001b[0m \u001b[0my_score\u001b[0m\u001b[0;34m,\u001b[0m \u001b[0mmulti_class\u001b[0m\u001b[0;34m=\u001b[0m\u001b[0;34m'ovr'\u001b[0m\u001b[0;34m)\u001b[0m  \u001b[0;31m# ovr ovo raise\u001b[0m\u001b[0;34m\u001b[0m\u001b[0;34m\u001b[0m\u001b[0m\n\u001b[0m\u001b[1;32m      5\u001b[0m \u001b[0;34m\u001b[0m\u001b[0m\n\u001b[1;32m      6\u001b[0m \u001b[0;31m#clf = LogisticRegression(solver=\"liblinear\").fit(X, y)\u001b[0m\u001b[0;34m\u001b[0m\u001b[0;34m\u001b[0m\u001b[0;34m\u001b[0m\u001b[0m\n",
            "\u001b[0;32m/usr/local/lib/python3.7/dist-packages/sklearn/metrics/_ranking.py\u001b[0m in \u001b[0;36mroc_auc_score\u001b[0;34m(y_true, y_score, average, sample_weight, max_fpr, multi_class, labels)\u001b[0m\n\u001b[1;32m    560\u001b[0m             \u001b[0;32mraise\u001b[0m \u001b[0mValueError\u001b[0m\u001b[0;34m(\u001b[0m\u001b[0;34m\"multi_class must be in ('ovo', 'ovr')\"\u001b[0m\u001b[0;34m)\u001b[0m\u001b[0;34m\u001b[0m\u001b[0;34m\u001b[0m\u001b[0m\n\u001b[1;32m    561\u001b[0m         return _multiclass_roc_auc_score(\n\u001b[0;32m--> 562\u001b[0;31m             \u001b[0my_true\u001b[0m\u001b[0;34m,\u001b[0m \u001b[0my_score\u001b[0m\u001b[0;34m,\u001b[0m \u001b[0mlabels\u001b[0m\u001b[0;34m,\u001b[0m \u001b[0mmulti_class\u001b[0m\u001b[0;34m,\u001b[0m \u001b[0maverage\u001b[0m\u001b[0;34m,\u001b[0m \u001b[0msample_weight\u001b[0m\u001b[0;34m\u001b[0m\u001b[0;34m\u001b[0m\u001b[0m\n\u001b[0m\u001b[1;32m    563\u001b[0m         )\n\u001b[1;32m    564\u001b[0m     \u001b[0;32melif\u001b[0m \u001b[0my_type\u001b[0m \u001b[0;34m==\u001b[0m \u001b[0;34m\"binary\"\u001b[0m\u001b[0;34m:\u001b[0m\u001b[0;34m\u001b[0m\u001b[0;34m\u001b[0m\u001b[0m\n",
            "\u001b[0;32m/usr/local/lib/python3.7/dist-packages/sklearn/metrics/_ranking.py\u001b[0m in \u001b[0;36m_multiclass_roc_auc_score\u001b[0;34m(y_true, y_score, labels, multi_class, average, sample_weight)\u001b[0m\n\u001b[1;32m    627\u001b[0m     \u001b[0;32mif\u001b[0m \u001b[0;32mnot\u001b[0m \u001b[0mnp\u001b[0m\u001b[0;34m.\u001b[0m\u001b[0mallclose\u001b[0m\u001b[0;34m(\u001b[0m\u001b[0;36m1\u001b[0m\u001b[0;34m,\u001b[0m \u001b[0my_score\u001b[0m\u001b[0;34m.\u001b[0m\u001b[0msum\u001b[0m\u001b[0;34m(\u001b[0m\u001b[0maxis\u001b[0m\u001b[0;34m=\u001b[0m\u001b[0;36m1\u001b[0m\u001b[0;34m)\u001b[0m\u001b[0;34m)\u001b[0m\u001b[0;34m:\u001b[0m\u001b[0;34m\u001b[0m\u001b[0;34m\u001b[0m\u001b[0m\n\u001b[1;32m    628\u001b[0m         raise ValueError(\n\u001b[0;32m--> 629\u001b[0;31m             \u001b[0;34m\"Target scores need to be probabilities for multiclass \"\u001b[0m\u001b[0;34m\u001b[0m\u001b[0;34m\u001b[0m\u001b[0m\n\u001b[0m\u001b[1;32m    630\u001b[0m             \u001b[0;34m\"roc_auc, i.e. they should sum up to 1.0 over classes\"\u001b[0m\u001b[0;34m\u001b[0m\u001b[0;34m\u001b[0m\u001b[0m\n\u001b[1;32m    631\u001b[0m         )\n",
            "\u001b[0;31mValueError\u001b[0m: Target scores need to be probabilities for multiclass roc_auc, i.e. they should sum up to 1.0 over classes"
          ]
        }
      ]
    },
    {
      "cell_type": "code",
      "source": [
        "# bayes_opt requires this to be a dictionary.\n",
        "pbounds = {\"C\": [0.1, 10]}\n",
        "\n",
        "# Create a BayesianOptimization optimizer,\n",
        "# and optimize the given black_box_function.\n",
        "\n",
        "optimizer = BayesianOptimization(f = black_box_function,\n",
        "                                 pbounds = pbounds, verbose = 2,\n",
        "                                 random_state = 4)\n",
        "\n",
        "optimizer.maximize(init_points = 5, n_iter = 10)\n",
        "\n",
        "print(\"Best result: {}; f(x) = {}.\".format(optimizer.max[\"params\"], optimizer.max[\"target\"]))\n"
      ],
      "metadata": {
        "colab": {
          "base_uri": "https://localhost:8080/",
          "height": 484
        },
        "id": "dSbOPY26iJvt",
        "outputId": "491729cb-46c8-44ac-ecbc-f7253937c7b5"
      },
      "execution_count": 44,
      "outputs": [
        {
          "output_type": "stream",
          "name": "stdout",
          "text": [
            "|   iter    |  target   |     C     |\n",
            "-------------------------------------\n"
          ]
        },
        {
          "output_type": "error",
          "ename": "ValueError",
          "evalue": "ignored",
          "traceback": [
            "\u001b[0;31m---------------------------------------------------------------------------\u001b[0m",
            "\u001b[0;31mKeyError\u001b[0m                                  Traceback (most recent call last)",
            "\u001b[0;32m/usr/local/lib/python3.7/dist-packages/bayes_opt/target_space.py\u001b[0m in \u001b[0;36mprobe\u001b[0;34m(self, params)\u001b[0m\n\u001b[1;32m    190\u001b[0m         \u001b[0;32mtry\u001b[0m\u001b[0;34m:\u001b[0m\u001b[0;34m\u001b[0m\u001b[0;34m\u001b[0m\u001b[0m\n\u001b[0;32m--> 191\u001b[0;31m             \u001b[0mtarget\u001b[0m \u001b[0;34m=\u001b[0m \u001b[0mself\u001b[0m\u001b[0;34m.\u001b[0m\u001b[0m_cache\u001b[0m\u001b[0;34m[\u001b[0m\u001b[0m_hashable\u001b[0m\u001b[0;34m(\u001b[0m\u001b[0mx\u001b[0m\u001b[0;34m)\u001b[0m\u001b[0;34m]\u001b[0m\u001b[0;34m\u001b[0m\u001b[0;34m\u001b[0m\u001b[0m\n\u001b[0m\u001b[1;32m    192\u001b[0m         \u001b[0;32mexcept\u001b[0m \u001b[0mKeyError\u001b[0m\u001b[0;34m:\u001b[0m\u001b[0;34m\u001b[0m\u001b[0;34m\u001b[0m\u001b[0m\n",
            "\u001b[0;31mKeyError\u001b[0m: (9.6735954062354,)",
            "\nDuring handling of the above exception, another exception occurred:\n",
            "\u001b[0;31mValueError\u001b[0m                                Traceback (most recent call last)",
            "\u001b[0;32m<ipython-input-44-3fabcd968eaf>\u001b[0m in \u001b[0;36m<module>\u001b[0;34m()\u001b[0m\n\u001b[1;32m      9\u001b[0m                                  random_state = 4)\n\u001b[1;32m     10\u001b[0m \u001b[0;34m\u001b[0m\u001b[0m\n\u001b[0;32m---> 11\u001b[0;31m \u001b[0moptimizer\u001b[0m\u001b[0;34m.\u001b[0m\u001b[0mmaximize\u001b[0m\u001b[0;34m(\u001b[0m\u001b[0minit_points\u001b[0m \u001b[0;34m=\u001b[0m \u001b[0;36m5\u001b[0m\u001b[0;34m,\u001b[0m \u001b[0mn_iter\u001b[0m \u001b[0;34m=\u001b[0m \u001b[0;36m10\u001b[0m\u001b[0;34m)\u001b[0m\u001b[0;34m\u001b[0m\u001b[0;34m\u001b[0m\u001b[0m\n\u001b[0m\u001b[1;32m     12\u001b[0m \u001b[0;34m\u001b[0m\u001b[0m\n\u001b[1;32m     13\u001b[0m \u001b[0mprint\u001b[0m\u001b[0;34m(\u001b[0m\u001b[0;34m\"Best result: {}; f(x) = {}.\"\u001b[0m\u001b[0;34m.\u001b[0m\u001b[0mformat\u001b[0m\u001b[0;34m(\u001b[0m\u001b[0moptimizer\u001b[0m\u001b[0;34m.\u001b[0m\u001b[0mmax\u001b[0m\u001b[0;34m[\u001b[0m\u001b[0;34m\"params\"\u001b[0m\u001b[0;34m]\u001b[0m\u001b[0;34m,\u001b[0m \u001b[0moptimizer\u001b[0m\u001b[0;34m.\u001b[0m\u001b[0mmax\u001b[0m\u001b[0;34m[\u001b[0m\u001b[0;34m\"target\"\u001b[0m\u001b[0;34m]\u001b[0m\u001b[0;34m)\u001b[0m\u001b[0;34m)\u001b[0m\u001b[0;34m\u001b[0m\u001b[0;34m\u001b[0m\u001b[0m\n",
            "\u001b[0;32m/usr/local/lib/python3.7/dist-packages/bayes_opt/bayesian_optimization.py\u001b[0m in \u001b[0;36mmaximize\u001b[0;34m(self, init_points, n_iter, acq, kappa, kappa_decay, kappa_decay_delay, xi, **gp_params)\u001b[0m\n\u001b[1;32m    183\u001b[0m                 \u001b[0miteration\u001b[0m \u001b[0;34m+=\u001b[0m \u001b[0;36m1\u001b[0m\u001b[0;34m\u001b[0m\u001b[0;34m\u001b[0m\u001b[0m\n\u001b[1;32m    184\u001b[0m \u001b[0;34m\u001b[0m\u001b[0m\n\u001b[0;32m--> 185\u001b[0;31m             \u001b[0mself\u001b[0m\u001b[0;34m.\u001b[0m\u001b[0mprobe\u001b[0m\u001b[0;34m(\u001b[0m\u001b[0mx_probe\u001b[0m\u001b[0;34m,\u001b[0m \u001b[0mlazy\u001b[0m\u001b[0;34m=\u001b[0m\u001b[0;32mFalse\u001b[0m\u001b[0;34m)\u001b[0m\u001b[0;34m\u001b[0m\u001b[0;34m\u001b[0m\u001b[0m\n\u001b[0m\u001b[1;32m    186\u001b[0m \u001b[0;34m\u001b[0m\u001b[0m\n\u001b[1;32m    187\u001b[0m             \u001b[0;32mif\u001b[0m \u001b[0mself\u001b[0m\u001b[0;34m.\u001b[0m\u001b[0m_bounds_transformer\u001b[0m\u001b[0;34m:\u001b[0m\u001b[0;34m\u001b[0m\u001b[0;34m\u001b[0m\u001b[0m\n",
            "\u001b[0;32m/usr/local/lib/python3.7/dist-packages/bayes_opt/bayesian_optimization.py\u001b[0m in \u001b[0;36mprobe\u001b[0;34m(self, params, lazy)\u001b[0m\n\u001b[1;32m    114\u001b[0m             \u001b[0mself\u001b[0m\u001b[0;34m.\u001b[0m\u001b[0m_queue\u001b[0m\u001b[0;34m.\u001b[0m\u001b[0madd\u001b[0m\u001b[0;34m(\u001b[0m\u001b[0mparams\u001b[0m\u001b[0;34m)\u001b[0m\u001b[0;34m\u001b[0m\u001b[0;34m\u001b[0m\u001b[0m\n\u001b[1;32m    115\u001b[0m         \u001b[0;32melse\u001b[0m\u001b[0;34m:\u001b[0m\u001b[0;34m\u001b[0m\u001b[0;34m\u001b[0m\u001b[0m\n\u001b[0;32m--> 116\u001b[0;31m             \u001b[0mself\u001b[0m\u001b[0;34m.\u001b[0m\u001b[0m_space\u001b[0m\u001b[0;34m.\u001b[0m\u001b[0mprobe\u001b[0m\u001b[0;34m(\u001b[0m\u001b[0mparams\u001b[0m\u001b[0;34m)\u001b[0m\u001b[0;34m\u001b[0m\u001b[0;34m\u001b[0m\u001b[0m\n\u001b[0m\u001b[1;32m    117\u001b[0m             \u001b[0mself\u001b[0m\u001b[0;34m.\u001b[0m\u001b[0mdispatch\u001b[0m\u001b[0;34m(\u001b[0m\u001b[0mEvents\u001b[0m\u001b[0;34m.\u001b[0m\u001b[0mOPTIMIZATION_STEP\u001b[0m\u001b[0;34m)\u001b[0m\u001b[0;34m\u001b[0m\u001b[0;34m\u001b[0m\u001b[0m\n\u001b[1;32m    118\u001b[0m \u001b[0;34m\u001b[0m\u001b[0m\n",
            "\u001b[0;32m/usr/local/lib/python3.7/dist-packages/bayes_opt/target_space.py\u001b[0m in \u001b[0;36mprobe\u001b[0;34m(self, params)\u001b[0m\n\u001b[1;32m    192\u001b[0m         \u001b[0;32mexcept\u001b[0m \u001b[0mKeyError\u001b[0m\u001b[0;34m:\u001b[0m\u001b[0;34m\u001b[0m\u001b[0;34m\u001b[0m\u001b[0m\n\u001b[1;32m    193\u001b[0m             \u001b[0mparams\u001b[0m \u001b[0;34m=\u001b[0m \u001b[0mdict\u001b[0m\u001b[0;34m(\u001b[0m\u001b[0mzip\u001b[0m\u001b[0;34m(\u001b[0m\u001b[0mself\u001b[0m\u001b[0;34m.\u001b[0m\u001b[0m_keys\u001b[0m\u001b[0;34m,\u001b[0m \u001b[0mx\u001b[0m\u001b[0;34m)\u001b[0m\u001b[0;34m)\u001b[0m\u001b[0;34m\u001b[0m\u001b[0;34m\u001b[0m\u001b[0m\n\u001b[0;32m--> 194\u001b[0;31m             \u001b[0mtarget\u001b[0m \u001b[0;34m=\u001b[0m \u001b[0mself\u001b[0m\u001b[0;34m.\u001b[0m\u001b[0mtarget_func\u001b[0m\u001b[0;34m(\u001b[0m\u001b[0;34m**\u001b[0m\u001b[0mparams\u001b[0m\u001b[0;34m)\u001b[0m\u001b[0;34m\u001b[0m\u001b[0;34m\u001b[0m\u001b[0m\n\u001b[0m\u001b[1;32m    195\u001b[0m             \u001b[0mself\u001b[0m\u001b[0;34m.\u001b[0m\u001b[0mregister\u001b[0m\u001b[0;34m(\u001b[0m\u001b[0mx\u001b[0m\u001b[0;34m,\u001b[0m \u001b[0mtarget\u001b[0m\u001b[0;34m)\u001b[0m\u001b[0;34m\u001b[0m\u001b[0;34m\u001b[0m\u001b[0m\n\u001b[1;32m    196\u001b[0m         \u001b[0;32mreturn\u001b[0m \u001b[0mtarget\u001b[0m\u001b[0;34m\u001b[0m\u001b[0;34m\u001b[0m\u001b[0m\n",
            "\u001b[0;32m<ipython-input-42-1b1f26a0c362>\u001b[0m in \u001b[0;36mblack_box_function\u001b[0;34m(C)\u001b[0m\n\u001b[1;32m     12\u001b[0m     \u001b[0mmodel\u001b[0m\u001b[0;34m.\u001b[0m\u001b[0mfit\u001b[0m\u001b[0;34m(\u001b[0m\u001b[0mtrain_X\u001b[0m\u001b[0;34m,\u001b[0m \u001b[0mtrain_y\u001b[0m\u001b[0;34m)\u001b[0m\u001b[0;34m\u001b[0m\u001b[0;34m\u001b[0m\u001b[0m\n\u001b[1;32m     13\u001b[0m     \u001b[0my_score\u001b[0m \u001b[0;34m=\u001b[0m \u001b[0mmodel\u001b[0m\u001b[0;34m.\u001b[0m\u001b[0mdecision_function\u001b[0m\u001b[0;34m(\u001b[0m\u001b[0mtest_X\u001b[0m\u001b[0;34m)\u001b[0m\u001b[0;34m\u001b[0m\u001b[0;34m\u001b[0m\u001b[0m\n\u001b[0;32m---> 14\u001b[0;31m     \u001b[0mf\u001b[0m \u001b[0;34m=\u001b[0m \u001b[0mroc_auc_score\u001b[0m\u001b[0;34m(\u001b[0m\u001b[0mtest_y\u001b[0m\u001b[0;34m,\u001b[0m \u001b[0my_score\u001b[0m\u001b[0;34m)\u001b[0m\u001b[0;34m\u001b[0m\u001b[0;34m\u001b[0m\u001b[0m\n\u001b[0m\u001b[1;32m     15\u001b[0m \u001b[0;34m\u001b[0m\u001b[0m\n\u001b[1;32m     16\u001b[0m     \u001b[0;32mreturn\u001b[0m \u001b[0mf\u001b[0m\u001b[0;31m# Set range of C to optimize for.\u001b[0m\u001b[0;34m\u001b[0m\u001b[0;34m\u001b[0m\u001b[0m\n",
            "\u001b[0;32m/usr/local/lib/python3.7/dist-packages/sklearn/metrics/_ranking.py\u001b[0m in \u001b[0;36mroc_auc_score\u001b[0;34m(y_true, y_score, average, sample_weight, max_fpr, multi_class, labels)\u001b[0m\n\u001b[1;32m    558\u001b[0m             )\n\u001b[1;32m    559\u001b[0m         \u001b[0;32mif\u001b[0m \u001b[0mmulti_class\u001b[0m \u001b[0;34m==\u001b[0m \u001b[0;34m\"raise\"\u001b[0m\u001b[0;34m:\u001b[0m\u001b[0;34m\u001b[0m\u001b[0;34m\u001b[0m\u001b[0m\n\u001b[0;32m--> 560\u001b[0;31m             \u001b[0;32mraise\u001b[0m \u001b[0mValueError\u001b[0m\u001b[0;34m(\u001b[0m\u001b[0;34m\"multi_class must be in ('ovo', 'ovr')\"\u001b[0m\u001b[0;34m)\u001b[0m\u001b[0;34m\u001b[0m\u001b[0;34m\u001b[0m\u001b[0m\n\u001b[0m\u001b[1;32m    561\u001b[0m         return _multiclass_roc_auc_score(\n\u001b[1;32m    562\u001b[0m             \u001b[0my_true\u001b[0m\u001b[0;34m,\u001b[0m \u001b[0my_score\u001b[0m\u001b[0;34m,\u001b[0m \u001b[0mlabels\u001b[0m\u001b[0;34m,\u001b[0m \u001b[0mmulti_class\u001b[0m\u001b[0;34m,\u001b[0m \u001b[0maverage\u001b[0m\u001b[0;34m,\u001b[0m \u001b[0msample_weight\u001b[0m\u001b[0;34m\u001b[0m\u001b[0;34m\u001b[0m\u001b[0m\n",
            "\u001b[0;31mValueError\u001b[0m: multi_class must be in ('ovo', 'ovr')"
          ]
        }
      ]
    },
    {
      "cell_type": "code",
      "source": [
        "model1 = SVC(C = 8.505)\n",
        "model1.fit(X_train_scaled, y_train)\n",
        "y_score = model1.decision_function(X_test_scaled)\n",
        "f = roc_auc_score(y_test, y_score)\n",
        "\n",
        "print(f)\n"
      ],
      "metadata": {
        "id": "P5YE4A_sfyNC"
      },
      "execution_count": null,
      "outputs": []
    }
  ]
}