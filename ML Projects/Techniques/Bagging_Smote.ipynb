{
  "nbformat": 4,
  "nbformat_minor": 0,
  "metadata": {
    "colab": {
      "name": "Bagging_Smote.ipynb",
      "provenance": [],
      "authorship_tag": "ABX9TyP2bvKrDw1M4k285LB4c5IB",
      "include_colab_link": true
    },
    "kernelspec": {
      "name": "python3",
      "display_name": "Python 3"
    },
    "language_info": {
      "name": "python"
    }
  },
  "cells": [
    {
      "cell_type": "markdown",
      "metadata": {
        "id": "view-in-github",
        "colab_type": "text"
      },
      "source": [
        "<a href=\"https://colab.research.google.com/github/tomdaler/repository/blob/main/ML%20Projects/Techniques/Bagging_Smote.ipynb\" target=\"_parent\"><img src=\"https://colab.research.google.com/assets/colab-badge.svg\" alt=\"Open In Colab\"/></a>"
      ]
    },
    {
      "cell_type": "code",
      "execution_count": 1,
      "metadata": {
        "id": "cqva7__yKZqX"
      },
      "outputs": [],
      "source": [
        "import pandas as pd\n",
        "df = pd.read_csv(\"diabetes.csv\")\n",
        "\n",
        "X = df.drop(\"Outcome\",axis=\"columns\")\n",
        "y = df.Outcome\n",
        "\n",
        "from sklearn.preprocessing import StandardScaler\n",
        "scaler = StandardScaler()\n",
        "X_scaled = scaler.fit_transform(X)\n",
        "\n",
        "from sklearn.model_selection import train_test_split\n",
        "X_train, X_test, y_train, y_test = train_test_split(X_scaled, y, stratify=y, random_state=10)"
      ]
    },
    {
      "cell_type": "markdown",
      "source": [
        "DECISION TREE"
      ],
      "metadata": {
        "id": "xpJjdBLiPpZo"
      }
    },
    {
      "cell_type": "code",
      "source": [
        "from sklearn.tree import DecisionTreeClassifier\n",
        "from sklearn.model_selection import cross_val_score\n",
        "scores = cross_val_score(DecisionTreeClassifier(), X, y, cv=5)\n",
        "scores"
      ],
      "metadata": {
        "colab": {
          "base_uri": "https://localhost:8080/"
        },
        "id": "oId-MwfCKilN",
        "outputId": "5246449e-b72a-4ac4-ee49-e84be263d26d"
      },
      "execution_count": 2,
      "outputs": [
        {
          "output_type": "execute_result",
          "data": {
            "text/plain": [
              "array([0.69480519, 0.65584416, 0.75974026, 0.80392157, 0.73856209])"
            ]
          },
          "metadata": {},
          "execution_count": 2
        }
      ]
    },
    {
      "cell_type": "code",
      "source": [
        "from sklearn.ensemble import BaggingClassifier\n",
        "\n",
        "bag_model = BaggingClassifier(\n",
        "base_estimator=DecisionTreeClassifier(), \n",
        "n_estimators=100, \n",
        "max_samples=0.8, \n",
        "bootstrap=True,\n",
        "oob_score=True,\n",
        "random_state=0\n",
        ")"
      ],
      "metadata": {
        "id": "IjgFRK36Ky_R"
      },
      "execution_count": 5,
      "outputs": []
    },
    {
      "cell_type": "code",
      "source": [
        "bag_model.fit(X_train, y_train)\n",
        "bag_model.oob_score_\n",
        "\n",
        "bag_model.score(X_test, y_test)"
      ],
      "metadata": {
        "colab": {
          "base_uri": "https://localhost:8080/"
        },
        "id": "uBYjehUBLAsT",
        "outputId": "2f822f97-73b2-4b8e-b44b-ce1816c37ed3"
      },
      "execution_count": 6,
      "outputs": [
        {
          "output_type": "execute_result",
          "data": {
            "text/plain": [
              "0.7760416666666666"
            ]
          },
          "metadata": {},
          "execution_count": 6
        }
      ]
    },
    {
      "cell_type": "markdown",
      "source": [
        "RANDOM FOREST"
      ],
      "metadata": {
        "id": "XGL1gA2sPU6f"
      }
    },
    {
      "cell_type": "code",
      "source": [
        "from sklearn.ensemble import RandomForestClassifier\n",
        "scores = cross_val_score(RandomForestClassifier(n_estimators=50), X, y, cv=5)\n",
        "scores.mean()"
      ],
      "metadata": {
        "colab": {
          "base_uri": "https://localhost:8080/"
        },
        "id": "Rq8fPFiZLI73",
        "outputId": "ac93a694-84af-41c1-a902-b266c2822a7d"
      },
      "execution_count": 7,
      "outputs": [
        {
          "output_type": "execute_result",
          "data": {
            "text/plain": [
              "0.7670146846617435"
            ]
          },
          "metadata": {},
          "execution_count": 7
        }
      ]
    },
    {
      "cell_type": "markdown",
      "source": [
        "IF IT IS INCLUDED SMOTE, TO UNBALANCE, IT WILL INCREASE THE ACCURACY"
      ],
      "metadata": {
        "id": "HvqvjcV8XCnN"
      }
    },
    {
      "cell_type": "code",
      "source": [
        "from imblearn.combine import SMOTEENN\n",
        "smenn = SMOTEENN()\n",
        "X_train2, y_train2 = smenn.fit_resample(X_train, y_train)\n",
        "\n",
        "scores = cross_val_score(RandomForestClassifier(n_estimators=50), X_train2, y_train2, cv=5)\n",
        "scores.mean()"
      ],
      "metadata": {
        "colab": {
          "base_uri": "https://localhost:8080/"
        },
        "id": "t6WAVMv7WhCR",
        "outputId": "ec05bbc8-d8c0-4577-8f4b-495b7230b329"
      },
      "execution_count": 12,
      "outputs": [
        {
          "output_type": "execute_result",
          "data": {
            "text/plain": [
              "0.9591222030981067"
            ]
          },
          "metadata": {},
          "execution_count": 12
        }
      ]
    }
  ]
}