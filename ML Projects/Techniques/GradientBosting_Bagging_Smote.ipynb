{
  "nbformat": 4,
  "nbformat_minor": 0,
  "metadata": {
    "colab": {
      "name": "GradientBosting_Bagging_Smote.ipynb",
      "provenance": [],
      "authorship_tag": "ABX9TyMr4ZerEjQa/B/FKa7E5SBD",
      "include_colab_link": true
    },
    "kernelspec": {
      "name": "python3",
      "display_name": "Python 3"
    },
    "language_info": {
      "name": "python"
    }
  },
  "cells": [
    {
      "cell_type": "markdown",
      "metadata": {
        "id": "view-in-github",
        "colab_type": "text"
      },
      "source": [
        "<a href=\"https://colab.research.google.com/github/tomdaler/repository/blob/main/ML%20Projects/Techniques/GradientBosting_Bagging_Smote.ipynb\" target=\"_parent\"><img src=\"https://colab.research.google.com/assets/colab-badge.svg\" alt=\"Open In Colab\"/></a>"
      ]
    },
    {
      "cell_type": "code",
      "execution_count": 14,
      "metadata": {
        "id": "cqva7__yKZqX"
      },
      "outputs": [],
      "source": [
        "import pandas as pd\n",
        "df = pd.read_csv(\"diabetes.csv\")\n",
        "\n",
        "X = df.drop(\"Outcome\",axis=\"columns\")\n",
        "y = df.Outcome\n",
        "\n",
        "from sklearn.preprocessing import StandardScaler\n",
        "scaler = StandardScaler()\n",
        "X_scaled = scaler.fit_transform(X)\n",
        "\n",
        "from sklearn.model_selection import train_test_split\n",
        "X_train, X_test, y_train, y_test = train_test_split(X_scaled, y, stratify=y, random_state=10)"
      ]
    },
    {
      "cell_type": "code",
      "source": [
        "from sklearn.ensemble import GradientBoostingClassifier\n",
        "from sklearn.metrics import accuracy_score"
      ],
      "metadata": {
        "id": "f9ATudwEcrhC"
      },
      "execution_count": 17,
      "outputs": []
    },
    {
      "cell_type": "code",
      "source": [
        "estimators = range(10, 200, 10)\n",
        "total_accuracy = []\n",
        "\n",
        "for i in estimators:\n",
        "    boost = GradientBoostingClassifier(n_estimators=i).fit(X_train, y_train)\n",
        "    boost_pred = boost.predict(X_test)\n",
        "    total_accuracy.append(accuracy_score(y_test, boost_pred))\n",
        "\n",
        "import matplotlib.pyplot as plt\n",
        "plt.plot(estimators, total_accuracy)\n",
        "plt.xlabel('Estimators')\n",
        "plt.ylabel('Accuracy')\n",
        "plt.show()\n"
      ],
      "metadata": {
        "colab": {
          "base_uri": "https://localhost:8080/",
          "height": 279
        },
        "id": "DEu1oSf5cuyD",
        "outputId": "4bfcb3c9-1dd2-49ee-b372-87b239ae602c"
      },
      "execution_count": 18,
      "outputs": [
        {
          "output_type": "display_data",
          "data": {
            "text/plain": [
              "<Figure size 432x288 with 1 Axes>"
            ],
            "image/png": "[encoded data removed]"
          },
          "metadata": {
            "needs_background": "light"
          }
        }
      ]
    },
    {
      "cell_type": "markdown",
      "source": [
        "WITH 40 ESTIMATORS WE HAVE THE HIGHET ACCURACY AND DECREASES AFTER"
      ],
      "metadata": {
        "id": "mxmakSOrc2rc"
      }
    },
    {
      "cell_type": "markdown",
      "source": [
        "DECISION TREE"
      ],
      "metadata": {
        "id": "xpJjdBLiPpZo"
      }
    },
    {
      "cell_type": "code",
      "source": [
        "from sklearn.tree import DecisionTreeClassifier\n",
        "from sklearn.model_selection import cross_val_score\n",
        "scores = cross_val_score(DecisionTreeClassifier(), X, y, cv=5)\n",
        "scores"
      ],
      "metadata": {
        "colab": {
          "base_uri": "https://localhost:8080/"
        },
        "id": "oId-MwfCKilN",
        "outputId": "5246449e-b72a-4ac4-ee49-e84be263d26d"
      },
      "execution_count": 2,
      "outputs": [
        {
          "output_type": "execute_result",
          "data": {
            "text/plain": [
              "array([0.69480519, 0.65584416, 0.75974026, 0.80392157, 0.73856209])"
            ]
          },
          "metadata": {},
          "execution_count": 2
        }
      ]
    },
    {
      "cell_type": "code",
      "source": [
        "from sklearn.ensemble import BaggingClassifier\n",
        "\n",
        "bag_model = BaggingClassifier(\n",
        "base_estimator=DecisionTreeClassifier(), \n",
        "n_estimators=40, \n",
        "max_samples=0.8, \n",
        "bootstrap=True,\n",
        "oob_score=True,\n",
        "random_state=0\n",
        ")"
      ],
      "metadata": {
        "id": "IjgFRK36Ky_R"
      },
      "execution_count": 27,
      "outputs": []
    },
    {
      "cell_type": "code",
      "source": [
        "bag_model.fit(X_train, y_train)\n",
        "bag_model.oob_score_\n",
        "\n",
        "bag_model.score(X_test, y_test)"
      ],
      "metadata": {
        "colab": {
          "base_uri": "https://localhost:8080/"
        },
        "id": "uBYjehUBLAsT",
        "outputId": "0d65a31c-c75f-4212-d797-d513ab893f83"
      },
      "execution_count": 28,
      "outputs": [
        {
          "output_type": "execute_result",
          "data": {
            "text/plain": [
              "0.796875"
            ]
          },
          "metadata": {},
          "execution_count": 28
        }
      ]
    },
    {
      "cell_type": "markdown",
      "source": [
        "RANDOM FOREST"
      ],
      "metadata": {
        "id": "XGL1gA2sPU6f"
      }
    },
    {
      "cell_type": "code",
      "source": [
        "from sklearn.ensemble import RandomForestClassifier\n",
        "scores = cross_val_score(RandomForestClassifier(n_estimators=40), X, y, cv=5)\n",
        "scores.mean()"
      ],
      "metadata": {
        "colab": {
          "base_uri": "https://localhost:8080/"
        },
        "id": "Rq8fPFiZLI73",
        "outputId": "46594726-c399-477b-f6c5-241ff726fc06"
      },
      "execution_count": 25,
      "outputs": [
        {
          "output_type": "execute_result",
          "data": {
            "text/plain": [
              "0.7526695526695526"
            ]
          },
          "metadata": {},
          "execution_count": 25
        }
      ]
    },
    {
      "cell_type": "markdown",
      "source": [
        "IF IT IS INCLUDED SMOTE, TO UNBALANCE, IT WILL INCREASE THE ACCURACY"
      ],
      "metadata": {
        "id": "HvqvjcV8XCnN"
      }
    },
    {
      "cell_type": "code",
      "source": [
        "from imblearn.combine import SMOTEENN\n",
        "smenn = SMOTEENN()\n",
        "X_train2, y_train2 = smenn.fit_resample(X_train, y_train)\n",
        "\n",
        "scores = cross_val_score(RandomForestClassifier(n_estimators=40), X_train2, y_train2, cv=5)\n",
        "scores.mean()"
      ],
      "metadata": {
        "colab": {
          "base_uri": "https://localhost:8080/"
        },
        "id": "t6WAVMv7WhCR",
        "outputId": "f62580c8-7f6a-41c6-bffa-4d20be8c0cbb"
      },
      "execution_count": 24,
      "outputs": [
        {
          "output_type": "execute_result",
          "data": {
            "text/plain": [
              "0.9507979524239687"
            ]
          },
          "metadata": {},
          "execution_count": 24
        }
      ]
    }
  ]
}