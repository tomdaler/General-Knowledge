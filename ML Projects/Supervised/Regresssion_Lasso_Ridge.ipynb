{
  "nbformat": 4,
  "nbformat_minor": 0,
  "metadata": {
    "colab": {
      "name": "Regresssion_Lasso_Ridge.ipynb",
      "provenance": [],
      "authorship_tag": "ABX9TyNh2Hf5M8lXrLO6rqENzyQQ",
      "include_colab_link": true
    },
    "kernelspec": {
      "name": "python3",
      "display_name": "Python 3"
    },
    "language_info": {
      "name": "python"
    }
  },
  "cells": [
    {
      "cell_type": "markdown",
      "metadata": {
        "id": "view-in-github",
        "colab_type": "text"
      },
      "source": [
        "<a href=\"https://colab.research.google.com/github/tomdaler/repository/blob/main/ML%20Projects/Supervised/Regresssion_Lasso_Ridge.ipynb\" target=\"_parent\"><img src=\"https://colab.research.google.com/assets/colab-badge.svg\" alt=\"Open In Colab\"/></a>"
      ]
    },
    {
      "cell_type": "code",
      "execution_count": 1,
      "metadata": {
        "id": "AAhabfpQ2qVr"
      },
      "outputs": [],
      "source": [
        "# Importamos las bibliotecas\n",
        "import pandas as pd\n",
        "import sklearn\n",
        "\n",
        "# Importamos los modelos de sklearn \n",
        "from sklearn.linear_model import LinearRegression\n",
        "from sklearn.linear_model import Lasso\n",
        "from sklearn.linear_model import Ridge\n",
        "\n",
        "# Importamos las metricas de entrenamiento y el error medio cuadrado\n",
        "from sklearn.model_selection import train_test_split\n",
        "from sklearn.metrics import mean_squared_error\n",
        "\n",
        "   \n",
        "dataset = pd.read_csv('felicidad.csv')\n"
      ]
    },
    {
      "cell_type": "code",
      "source": [
        "# Vamos a elegir los features que vamos a usar\n",
        "X = dataset[['gdp', 'family', 'lifexp', 'freedom' , 'corruption' , 'generosity', 'dystopia']]\n",
        "\n",
        "# Definimos nuestro objetivo, que sera nuestro data set, pero solo en la columna score \n",
        "y = dataset[['score']]\n",
        "\n",
        "\n",
        "# En nuestros features tendremos definidos 155 registros, uno por cada pais, 7 colunas 1 por cada pais \n",
        "print(X.shape)\n",
        "\n",
        "# Y 155 para nuestra columna para nuestro target \n",
        "print(y.shape)\n"
      ],
      "metadata": {
        "colab": {
          "base_uri": "https://localhost:8080/"
        },
        "id": "1vcUL0uG2yCW",
        "outputId": "7eb59df6-15c1-448e-b73a-de9ef3b7489d"
      },
      "execution_count": 2,
      "outputs": [
        {
          "output_type": "stream",
          "name": "stdout",
          "text": [
            "(155, 7)\n",
            "(155, 1)\n"
          ]
        }
      ]
    },
    {
      "cell_type": "code",
      "source": [
        "# Aquí vamos a partir nuestro entrenaminto en training y test, no hay olvidar el orden\n",
        "# Con el test size elegimos nuestro porcetaje de datos para training \n",
        "X_train, X_test, y_train, y_test = train_test_split(X,y, test_size=0.25)\n",
        "\n",
        "# Aquí definimos nuestros regresores uno por 1 y llamamos el fit o ajuste \n",
        "modelLinear = LinearRegression().fit(X_train, y_train)\n",
        "\n",
        "# Calcular la prediccion que nos bota con la funcion predict con la regresion lineal \n",
        "# y le vamos a mandar el test \n",
        "y_predict_linear = modelLinear.predict(X_test)"
      ],
      "metadata": {
        "id": "MAZyOFjE224v"
      },
      "execution_count": 4,
      "outputs": []
    },
    {
      "cell_type": "code",
      "source": [
        "# Configuramos alpha, que es valor labda y entre mas valor tenga alpha en lasso mas penalizacion \n",
        "# vamos a tener y lo entrenamos con la función fit \n",
        "\n",
        "#alpha = 0.2 A MAYOR ALPHA MAS PENALIZACION\n",
        "\n",
        "modelLasso = Lasso(alpha=0.2).fit(X_train, y_train)\n"
      ],
      "metadata": {
        "id": "xjcDcU1e3AKt"
      },
      "execution_count": 5,
      "outputs": []
    },
    {
      "cell_type": "code",
      "source": [
        "y_predict_lasso = modelLasso.predict(X_test)\n",
        "\n",
        "# alpha = 1\n",
        "\n",
        "# Hacemos la misma predicción, pero para nuestra regresion ridge \n",
        "modelRidge = Ridge(alpha=1).fit(X_train, y_train)\n",
        "\n",
        "# Calculamos el valor predicho para nuestra regresión ridge \n",
        "y_predict_ridge = modelRidge.predict(X_test)\n",
        "\n",
        "\n",
        "# Calculamos la perdida para cada uno de los modelos que entrenamos, empezaremos con nuestro modelo \n",
        "# lineal, con el error medio cuadratico y lo vamos a aplicar con los datos de prueba con la prediccion \n",
        "# que hicimos \n",
        "linear_loss = mean_squared_error(y_test, y_predict_linear)\n",
        "\n",
        "# Mostramos la perdida lineal con la variable que acabamos de calcular\n",
        "print(\"Linear loss: \", linear_loss) \n",
        "    \n",
        "# Mostramos nuestra perdida Lasso, con la variable lasso loss \n",
        "lasso_loss = mean_squared_error(y_test, y_predict_lasso)\n",
        "print(\"Lasso Loss. \", lasso_loss) "
      ],
      "metadata": {
        "colab": {
          "base_uri": "https://localhost:8080/"
        },
        "id": "ud9yQIuG3Iv7",
        "outputId": "3bc6d148-ccca-4766-87a8-3943682b84ff"
      },
      "execution_count": 6,
      "outputs": [
        {
          "output_type": "stream",
          "name": "stdout",
          "text": [
            "Linear loss:  8.094804493565821e-08\n",
            "Lasso Loss.  0.6623143469770522\n"
          ]
        }
      ]
    },
    {
      "cell_type": "code",
      "source": [
        "# Mostramos nuestra perdida de Ridge con la variable lasso loss \n",
        "ridge_loss = mean_squared_error(y_test, y_predict_ridge)\n",
        "print(\"Ridge loss: \", ridge_loss)\n",
        "\n",
        "# Imprimimos las coficientes para ver como afecta a cada una de las regresiones \n",
        "# La lines \"=\"*32 lo unico que hara es repetirme si simbolo de igual 32 veces \n",
        "print(\"=\"*32)\n",
        "print(\"Coeficientes lasso: \")\n",
        "\n",
        "# Esta informacion la podemos encontrar en la variable coef_ \n",
        "print(modelLasso.coef_)\n",
        "\n",
        "# Hacemos lo mismo con ridge \n",
        "print(\"=\"*32)\n",
        "print(\"Coeficientes ridge:\")\n",
        "print(modelRidge.coef_) "
      ],
      "metadata": {
        "colab": {
          "base_uri": "https://localhost:8080/"
        },
        "id": "on-dt6oJ3LDh",
        "outputId": "537a7d9d-088e-49fb-de0f-83d970123e73"
      },
      "execution_count": 7,
      "outputs": [
        {
          "output_type": "stream",
          "name": "stdout",
          "text": [
            "Ridge loss:  0.008656003388243847\n",
            "================================\n",
            "Coeficientes lasso: \n",
            "[1.07737321 0.         0.         0.         0.         0.\n",
            " 0.21577479]\n",
            "================================\n",
            "Coeficientes ridge:\n",
            "[[1.10421738 0.93125824 0.8411055  0.8750936  0.6280084  0.73607457\n",
            "  0.96127765]]\n"
          ]
        }
      ]
    }
  ]
}